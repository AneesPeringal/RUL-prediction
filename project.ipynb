{
 "cells": [
  {
   "cell_type": "code",
   "execution_count": 3,
   "metadata": {},
   "outputs": [],
   "source": [
    "import pandas as pd\n",
    "import numpy as np\n",
    "import torch\n",
    "import torch.nn as nn\n",
    "import matplotlib.pyplot as plt\n",
    "from torch.utils.data import DataLoader"
   ]
  },
  {
   "cell_type": "code",
   "execution_count": 4,
   "metadata": {},
   "outputs": [],
   "source": [
    "def add_remaining_useful_life(df):\n",
    "    # Get the total number of cycles for each unit\n",
    "    grouped_by_unit = df.groupby(by=\"unit_nr\")\n",
    "    max_cycle = grouped_by_unit[\"time_cycles\"].max()\n",
    "\n",
    "    # Merge the max cycle back into the original frame\n",
    "    result_frame = df.merge(max_cycle.to_frame(name='max_cycle'), left_on='unit_nr', right_index=True)\n",
    "\n",
    "    # Calculate remaining useful life for each row (piece-wise Linear)\n",
    "    remaining_useful_life = result_frame[\"max_cycle\"] - result_frame[\"time_cycles\"]\n",
    "    result_frame[\"RUL\"] = remaining_useful_life\n",
    "\n",
    "    # drop max_cycle as it's no longer needed\n",
    "    result_frame = result_frame.drop(\"max_cycle\", axis=1)\n",
    "\n",
    "    return result_frame"
   ]
  },
  {
   "cell_type": "code",
   "execution_count": 9,
   "metadata": {},
   "outputs": [],
   "source": [
    "## load data\n",
    "import pandas as pd\n",
    "\n",
    "\n",
    "def loading_FD001():\n",
    "\n",
    "    # define filepath to read data\n",
    "    dir_path = './CMAPSSData/'\n",
    "\n",
    "    # define column names for easy indexing\n",
    "    index_names = ['unit_nr', 'time_cycles']\n",
    "    setting_names = ['setting_1', 'setting_2', 'setting_3']\n",
    "    sensor_names = ['s_{}'.format(i) for i in range(1, 22)]\n",
    "    col_names = index_names + setting_names + sensor_names\n",
    "\n",
    "    # read data\n",
    "    train = pd.read_csv((dir_path + 'train_FD001.txt'), sep='\\s+', header=None, names=col_names)\n",
    "    test = pd.read_csv((dir_path + 'test_FD001.txt'), sep='\\s+', header=None, names=col_names)\n",
    "    y_test = pd.read_csv((dir_path + 'RUL_FD001.txt'), sep='\\s+', header=None, names=['RUL'])\n",
    "\n",
    "    # drop non-informative features in training set\n",
    "    drop_sensors = ['s_1', 's_5', 's_6', 's_10', 's_16', 's_18', 's_19']\n",
    "    drop_labels = setting_names + drop_sensors\n",
    "    train.drop(labels=drop_labels, axis=1, inplace=True)\n",
    "\n",
    "    # separate title information and sensor data\n",
    "    title = train.iloc[:, 0:2]\n",
    "    data = train.iloc[:, 2:]\n",
    "\n",
    "    # min-max normalization of the sensor data\n",
    "    data_norm = (data - data.min()) / (data.max() - data.min())\n",
    "    train_norm = pd.concat([title, data_norm], axis=1)\n",
    "\n",
    "    # add piece-wise target remaining useful life\n",
    "    train_norm = add_remaining_useful_life(train_norm)\n",
    "    train_norm['RUL'].clip(upper=125, inplace=True) # in the paper the MAX RUL is mentioned as 125\n",
    "\n",
    "    # group the training set with unit\n",
    "    group = train_norm.groupby(by=\"unit_nr\")\n",
    "\n",
    "    # drop non-informative features in testing set\n",
    "    test.drop(labels=drop_labels, axis=1, inplace=True)\n",
    "    title = test.iloc[:, 0:2]\n",
    "    data = test.iloc[:, 2:]\n",
    "    data_norm = (data - data.min()) / (data.max() - data.min())\n",
    "    test_norm = pd.concat([title, data_norm], axis=1)\n",
    "\n",
    "    # group the testing set with unit\n",
    "    group_test = test_norm.groupby(by=\"unit_nr\")\n",
    "\n",
    "    return group, y_test, group_test\n",
    "\n",
    "\n"
   ]
  },
  {
   "cell_type": "code",
   "execution_count": 10,
   "metadata": {},
   "outputs": [],
   "source": [
    "group, y_test, group_test = loading_FD001()\n"
   ]
  },
  {
   "cell_type": "code",
   "execution_count": 11,
   "metadata": {},
   "outputs": [
    {
     "data": {
      "text/plain": [
       "True"
      ]
     },
     "execution_count": 11,
     "metadata": {},
     "output_type": "execute_result"
    }
   ],
   "source": [
    "group.group_keys"
   ]
  },
  {
   "cell_type": "code",
   "execution_count": 12,
   "metadata": {},
   "outputs": [
    {
     "ename": "KeyError",
     "evalue": "0",
     "output_type": "error",
     "traceback": [
      "\u001b[1;31m---------------------------------------------------------------------------\u001b[0m",
      "\u001b[1;31mKeyError\u001b[0m                                  Traceback (most recent call last)",
      "\u001b[1;32mc:\\Users\\anees\\OneDrive - ku.ac.ae\\Uni\\fall 2023\\machine learning and applications\\project\\project.ipynb Cell 6\u001b[0m line \u001b[0;36m2\n\u001b[0;32m      <a href='vscode-notebook-cell:/c%3A/Users/anees/OneDrive%20-%20ku.ac.ae/Uni/fall%202023/machine%20learning%20and%20applications/project/project.ipynb#W4sZmlsZQ%3D%3D?line=0'>1</a>\u001b[0m \u001b[39mfor\u001b[39;00m i \u001b[39min\u001b[39;00m \u001b[39mrange\u001b[39m(\u001b[39m0\u001b[39m,\u001b[39m100\u001b[39m):\n\u001b[1;32m----> <a href='vscode-notebook-cell:/c%3A/Users/anees/OneDrive%20-%20ku.ac.ae/Uni/fall%202023/machine%20learning%20and%20applications/project/project.ipynb#W4sZmlsZQ%3D%3D?line=1'>2</a>\u001b[0m     x \u001b[39m=\u001b[39m group\u001b[39m.\u001b[39;49mget_group(i)\n",
      "File \u001b[1;32mc:\\Users\\anees\\miniconda3\\envs\\pytorch\\lib\\site-packages\\pandas\\core\\groupby\\groupby.py:800\u001b[0m, in \u001b[0;36mBaseGroupBy.get_group\u001b[1;34m(self, name, obj)\u001b[0m\n\u001b[0;32m    798\u001b[0m inds \u001b[39m=\u001b[39m \u001b[39mself\u001b[39m\u001b[39m.\u001b[39m_get_index(name)\n\u001b[0;32m    799\u001b[0m \u001b[39mif\u001b[39;00m \u001b[39mnot\u001b[39;00m \u001b[39mlen\u001b[39m(inds):\n\u001b[1;32m--> 800\u001b[0m     \u001b[39mraise\u001b[39;00m \u001b[39mKeyError\u001b[39;00m(name)\n\u001b[0;32m    802\u001b[0m \u001b[39mreturn\u001b[39;00m obj\u001b[39m.\u001b[39m_take_with_is_copy(inds, axis\u001b[39m=\u001b[39m\u001b[39mself\u001b[39m\u001b[39m.\u001b[39maxis)\n",
      "\u001b[1;31mKeyError\u001b[0m: 0"
     ]
    }
   ],
   "source": [
    "for i in range(0,100):\n",
    "    x = group.get_group(i)"
   ]
  },
  {
   "cell_type": "code",
   "execution_count": 52,
   "metadata": {},
   "outputs": [],
   "source": [
    "class CustomtrainDataset():\n",
    "    def __init__(self, group,y, lookback,engine_no):\n",
    "        self.group = group\n",
    "        self.lookback = lookback\n",
    "        self.engine_no = engine_no\n",
    "        self.y = y\n",
    "\n",
    "    def __len__(self):\n",
    "        return len(self.group)\n",
    "\n",
    "    def __getitem__(self, idx):\n",
    "        if torch.is_tensor(idx):\n",
    "            idx = idx.tolist()\n",
    "        x = self.group.get_group(self.engine_no).to_numpy()\n",
    "        label = self.y[idx:idx+self.lookback]\n",
    "        data_window = x[idx:idx+self.lookback]\n",
    "\n",
    "        return data_window, label\n",
    "\n",
    "dataset = CustomtrainDataset(group,10,i)\n",
    "Dataloader = DataLoader(dataset,batch_size=1,shuffle=True)"
   ]
  },
  {
   "cell_type": "code",
   "execution_count": 53,
   "metadata": {},
   "outputs": [
    {
     "data": {
      "text/plain": [
       "31"
      ]
     },
     "execution_count": 53,
     "metadata": {},
     "output_type": "execute_result"
    }
   ],
   "source": [
    "j =1\n",
    "x_test = group_test.get_group(j).to_numpy()\n",
    "len(x_test)\n"
   ]
  },
  {
   "cell_type": "code",
   "execution_count": null,
   "metadata": {},
   "outputs": [],
   "source": [
    "class LSTMNetwork(nn.Module):\n",
    "    def __init__(self):\n",
    "        super().__init__()\n",
    "        self.lstm = nn.LSTM(input_size=17, )"
   ]
  }
 ],
 "metadata": {
  "kernelspec": {
   "display_name": "pytorch",
   "language": "python",
   "name": "python3"
  },
  "language_info": {
   "codemirror_mode": {
    "name": "ipython",
    "version": 3
   },
   "file_extension": ".py",
   "mimetype": "text/x-python",
   "name": "python",
   "nbconvert_exporter": "python",
   "pygments_lexer": "ipython3",
   "version": "3.8.18"
  }
 },
 "nbformat": 4,
 "nbformat_minor": 2
}
